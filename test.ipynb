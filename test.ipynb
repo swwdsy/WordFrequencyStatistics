{
 "cells": [
  {
   "cell_type": "code",
   "execution_count": 8,
   "metadata": {},
   "outputs": [],
   "source": [
    "import pandas as pd\n",
    "import book_to_words\n",
    "\n",
    "\n",
    "book = 'book\\hp1.txt'\n",
    "# 获取全书所有单词列表\n",
    "words_list = book_to_words.get_words_list(book)\n",
    "\n"
   ]
  },
  {
   "cell_type": "code",
   "execution_count": 20,
   "metadata": {},
   "outputs": [
    {
     "name": "stdout",
     "output_type": "stream",
     "text": [
      "         word  count   cet4   cet6  kaoyan\n",
      "5100      dud      1  False  False   False\n",
      "5101    Gloom      1  False  False   False\n",
      "5102   Africa      1  False  False   False\n",
      "5103  confess      1  False  False   False\n",
      "5104   manner      1  False  False   False\n"
     ]
    }
   ],
   "source": [
    "#频率由高到低排列\n",
    "words_sort_by_freq = pd.value_counts(words_list)\n",
    "dict_word = {'word':words_sort_by_freq.index, 'count':words_sort_by_freq.values}\n",
    "words = pd.DataFrame(dict_word)\n",
    "\n",
    "#清除有标点符号行\n",
    "words = words[~words['word'].str.contains('~|`|!|@|#|\\$|%|\\^|&|\\*|\\(|\\)|-|_|\\+|=|{|\\[|}|]|:|;|\"|\\'|<|,|>|\\.|/|\\?')]\n",
    "words.reset_index(drop=True,inplace=True)\n",
    "# 添加列\n",
    "words.loc[:, 'cet4'] = False\n",
    "words.loc[:, 'cet6'] = False\n",
    "words.loc[:, 'kaoyan'] = False\n",
    "\n",
    "print(words.tail())"
   ]
  }
 ],
 "metadata": {
  "interpreter": {
   "hash": "a83ee436f1500c73e32731be50f63797ddec219c5aa48be28e381626f499afd7"
  },
  "kernelspec": {
   "display_name": "Python 3.10.0 64-bit",
   "language": "python",
   "name": "python3"
  },
  "language_info": {
   "codemirror_mode": {
    "name": "ipython",
    "version": 3
   },
   "file_extension": ".py",
   "mimetype": "text/x-python",
   "name": "python",
   "nbconvert_exporter": "python",
   "pygments_lexer": "ipython3",
   "version": "3.10.0"
  },
  "orig_nbformat": 4
 },
 "nbformat": 4,
 "nbformat_minor": 2
}
